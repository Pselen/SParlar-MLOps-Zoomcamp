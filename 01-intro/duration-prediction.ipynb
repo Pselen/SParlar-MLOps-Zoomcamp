{
 "cells": [
  {
   "cell_type": "markdown",
   "id": "64591081",
   "metadata": {},
   "source": [
    "# Homework 1 - Selen Parlar Özçelik\n",
    "The goal of this homework is to train a simple model for predicting the duration of a ride.\n"
   ]
  },
  {
   "cell_type": "code",
   "execution_count": null,
   "id": "95aa25c7",
   "metadata": {},
   "outputs": [],
   "source": [
    "### Download NYC Yellow Taxi Data\n",
    "! wget https://d37ci6vzurychx.cloudfront.net/trip-data/yellow_tripdata_2023-01.parquet -P ./data\n",
    "! wget https://d37ci6vzurychx.cloudfront.net/trip-data/yellow_tripdata_2023-02.parquet -P ./data"
   ]
  },
  {
   "cell_type": "code",
   "execution_count": 7,
   "id": "38d42253",
   "metadata": {},
   "outputs": [],
   "source": [
    "### Import libraries\n",
    "import pandas as pd\n",
    "\n",
    "from sklearn.preprocessing import OneHotEncoder\n",
    "from sklearn.linear_model import LinearRegression\n",
    "from sklearn.metrics import mean_squared_error"
   ]
  },
  {
   "cell_type": "code",
   "execution_count": 8,
   "id": "91f23453",
   "metadata": {},
   "outputs": [],
   "source": [
    "### Load data\n",
    "df_jan = pd.read_parquet('./data/yellow_tripdata_2023-01.parquet')\n",
    "df_feb = pd.read_parquet('./data/yellow_tripdata_2023-02.parquet')"
   ]
  },
  {
   "cell_type": "markdown",
   "id": "37ce3996",
   "metadata": {},
   "source": [
    "## Homework\n",
    "### 1. Read the data for January. How many columns are there?"
   ]
  },
  {
   "cell_type": "code",
   "execution_count": 10,
   "id": "d696b0bc",
   "metadata": {},
   "outputs": [
    {
     "name": "stdout",
     "output_type": "stream",
     "text": [
      "> There are 19 columns in January DataFrame\n"
     ]
    },
    {
     "data": {
      "application/vnd.microsoft.datawrangler.viewer.v0+json": {
       "columns": [
        {
         "name": "index",
         "rawType": "int64",
         "type": "integer"
        },
        {
         "name": "VendorID",
         "rawType": "int64",
         "type": "integer"
        },
        {
         "name": "tpep_pickup_datetime",
         "rawType": "datetime64[ns]",
         "type": "datetime"
        },
        {
         "name": "tpep_dropoff_datetime",
         "rawType": "datetime64[ns]",
         "type": "datetime"
        },
        {
         "name": "passenger_count",
         "rawType": "float64",
         "type": "float"
        },
        {
         "name": "trip_distance",
         "rawType": "float64",
         "type": "float"
        },
        {
         "name": "RatecodeID",
         "rawType": "float64",
         "type": "float"
        },
        {
         "name": "store_and_fwd_flag",
         "rawType": "object",
         "type": "string"
        },
        {
         "name": "PULocationID",
         "rawType": "int64",
         "type": "integer"
        },
        {
         "name": "DOLocationID",
         "rawType": "int64",
         "type": "integer"
        },
        {
         "name": "payment_type",
         "rawType": "int64",
         "type": "integer"
        },
        {
         "name": "fare_amount",
         "rawType": "float64",
         "type": "float"
        },
        {
         "name": "extra",
         "rawType": "float64",
         "type": "float"
        },
        {
         "name": "mta_tax",
         "rawType": "float64",
         "type": "float"
        },
        {
         "name": "tip_amount",
         "rawType": "float64",
         "type": "float"
        },
        {
         "name": "tolls_amount",
         "rawType": "float64",
         "type": "float"
        },
        {
         "name": "improvement_surcharge",
         "rawType": "float64",
         "type": "float"
        },
        {
         "name": "total_amount",
         "rawType": "float64",
         "type": "float"
        },
        {
         "name": "congestion_surcharge",
         "rawType": "float64",
         "type": "float"
        },
        {
         "name": "airport_fee",
         "rawType": "float64",
         "type": "float"
        }
       ],
       "conversionMethod": "pd.DataFrame",
       "ref": "ae2a71d3-0859-4a6e-81b1-3c7b9489affd",
       "rows": [
        [
         "0",
         "2",
         "2023-01-01 00:32:10",
         "2023-01-01 00:40:36",
         "1.0",
         "0.97",
         "1.0",
         "N",
         "161",
         "141",
         "2",
         "9.3",
         "1.0",
         "0.5",
         "0.0",
         "0.0",
         "1.0",
         "14.3",
         "2.5",
         "0.0"
        ],
        [
         "1",
         "2",
         "2023-01-01 00:55:08",
         "2023-01-01 01:01:27",
         "1.0",
         "1.1",
         "1.0",
         "N",
         "43",
         "237",
         "1",
         "7.9",
         "1.0",
         "0.5",
         "4.0",
         "0.0",
         "1.0",
         "16.9",
         "2.5",
         "0.0"
        ],
        [
         "2",
         "2",
         "2023-01-01 00:25:04",
         "2023-01-01 00:37:49",
         "1.0",
         "2.51",
         "1.0",
         "N",
         "48",
         "238",
         "1",
         "14.9",
         "1.0",
         "0.5",
         "15.0",
         "0.0",
         "1.0",
         "34.9",
         "2.5",
         "0.0"
        ],
        [
         "3",
         "1",
         "2023-01-01 00:03:48",
         "2023-01-01 00:13:25",
         "0.0",
         "1.9",
         "1.0",
         "N",
         "138",
         "7",
         "1",
         "12.1",
         "7.25",
         "0.5",
         "0.0",
         "0.0",
         "1.0",
         "20.85",
         "0.0",
         "1.25"
        ],
        [
         "4",
         "2",
         "2023-01-01 00:10:29",
         "2023-01-01 00:21:19",
         "1.0",
         "1.43",
         "1.0",
         "N",
         "107",
         "79",
         "1",
         "11.4",
         "1.0",
         "0.5",
         "3.28",
         "0.0",
         "1.0",
         "19.68",
         "2.5",
         "0.0"
        ]
       ],
       "shape": {
        "columns": 19,
        "rows": 5
       }
      },
      "text/html": [
       "<div>\n",
       "<style scoped>\n",
       "    .dataframe tbody tr th:only-of-type {\n",
       "        vertical-align: middle;\n",
       "    }\n",
       "\n",
       "    .dataframe tbody tr th {\n",
       "        vertical-align: top;\n",
       "    }\n",
       "\n",
       "    .dataframe thead th {\n",
       "        text-align: right;\n",
       "    }\n",
       "</style>\n",
       "<table border=\"1\" class=\"dataframe\">\n",
       "  <thead>\n",
       "    <tr style=\"text-align: right;\">\n",
       "      <th></th>\n",
       "      <th>VendorID</th>\n",
       "      <th>tpep_pickup_datetime</th>\n",
       "      <th>tpep_dropoff_datetime</th>\n",
       "      <th>passenger_count</th>\n",
       "      <th>trip_distance</th>\n",
       "      <th>RatecodeID</th>\n",
       "      <th>store_and_fwd_flag</th>\n",
       "      <th>PULocationID</th>\n",
       "      <th>DOLocationID</th>\n",
       "      <th>payment_type</th>\n",
       "      <th>fare_amount</th>\n",
       "      <th>extra</th>\n",
       "      <th>mta_tax</th>\n",
       "      <th>tip_amount</th>\n",
       "      <th>tolls_amount</th>\n",
       "      <th>improvement_surcharge</th>\n",
       "      <th>total_amount</th>\n",
       "      <th>congestion_surcharge</th>\n",
       "      <th>airport_fee</th>\n",
       "    </tr>\n",
       "  </thead>\n",
       "  <tbody>\n",
       "    <tr>\n",
       "      <th>0</th>\n",
       "      <td>2</td>\n",
       "      <td>2023-01-01 00:32:10</td>\n",
       "      <td>2023-01-01 00:40:36</td>\n",
       "      <td>1.0</td>\n",
       "      <td>0.97</td>\n",
       "      <td>1.0</td>\n",
       "      <td>N</td>\n",
       "      <td>161</td>\n",
       "      <td>141</td>\n",
       "      <td>2</td>\n",
       "      <td>9.3</td>\n",
       "      <td>1.00</td>\n",
       "      <td>0.5</td>\n",
       "      <td>0.00</td>\n",
       "      <td>0.0</td>\n",
       "      <td>1.0</td>\n",
       "      <td>14.30</td>\n",
       "      <td>2.5</td>\n",
       "      <td>0.00</td>\n",
       "    </tr>\n",
       "    <tr>\n",
       "      <th>1</th>\n",
       "      <td>2</td>\n",
       "      <td>2023-01-01 00:55:08</td>\n",
       "      <td>2023-01-01 01:01:27</td>\n",
       "      <td>1.0</td>\n",
       "      <td>1.10</td>\n",
       "      <td>1.0</td>\n",
       "      <td>N</td>\n",
       "      <td>43</td>\n",
       "      <td>237</td>\n",
       "      <td>1</td>\n",
       "      <td>7.9</td>\n",
       "      <td>1.00</td>\n",
       "      <td>0.5</td>\n",
       "      <td>4.00</td>\n",
       "      <td>0.0</td>\n",
       "      <td>1.0</td>\n",
       "      <td>16.90</td>\n",
       "      <td>2.5</td>\n",
       "      <td>0.00</td>\n",
       "    </tr>\n",
       "    <tr>\n",
       "      <th>2</th>\n",
       "      <td>2</td>\n",
       "      <td>2023-01-01 00:25:04</td>\n",
       "      <td>2023-01-01 00:37:49</td>\n",
       "      <td>1.0</td>\n",
       "      <td>2.51</td>\n",
       "      <td>1.0</td>\n",
       "      <td>N</td>\n",
       "      <td>48</td>\n",
       "      <td>238</td>\n",
       "      <td>1</td>\n",
       "      <td>14.9</td>\n",
       "      <td>1.00</td>\n",
       "      <td>0.5</td>\n",
       "      <td>15.00</td>\n",
       "      <td>0.0</td>\n",
       "      <td>1.0</td>\n",
       "      <td>34.90</td>\n",
       "      <td>2.5</td>\n",
       "      <td>0.00</td>\n",
       "    </tr>\n",
       "    <tr>\n",
       "      <th>3</th>\n",
       "      <td>1</td>\n",
       "      <td>2023-01-01 00:03:48</td>\n",
       "      <td>2023-01-01 00:13:25</td>\n",
       "      <td>0.0</td>\n",
       "      <td>1.90</td>\n",
       "      <td>1.0</td>\n",
       "      <td>N</td>\n",
       "      <td>138</td>\n",
       "      <td>7</td>\n",
       "      <td>1</td>\n",
       "      <td>12.1</td>\n",
       "      <td>7.25</td>\n",
       "      <td>0.5</td>\n",
       "      <td>0.00</td>\n",
       "      <td>0.0</td>\n",
       "      <td>1.0</td>\n",
       "      <td>20.85</td>\n",
       "      <td>0.0</td>\n",
       "      <td>1.25</td>\n",
       "    </tr>\n",
       "    <tr>\n",
       "      <th>4</th>\n",
       "      <td>2</td>\n",
       "      <td>2023-01-01 00:10:29</td>\n",
       "      <td>2023-01-01 00:21:19</td>\n",
       "      <td>1.0</td>\n",
       "      <td>1.43</td>\n",
       "      <td>1.0</td>\n",
       "      <td>N</td>\n",
       "      <td>107</td>\n",
       "      <td>79</td>\n",
       "      <td>1</td>\n",
       "      <td>11.4</td>\n",
       "      <td>1.00</td>\n",
       "      <td>0.5</td>\n",
       "      <td>3.28</td>\n",
       "      <td>0.0</td>\n",
       "      <td>1.0</td>\n",
       "      <td>19.68</td>\n",
       "      <td>2.5</td>\n",
       "      <td>0.00</td>\n",
       "    </tr>\n",
       "  </tbody>\n",
       "</table>\n",
       "</div>"
      ],
      "text/plain": [
       "   VendorID tpep_pickup_datetime tpep_dropoff_datetime  passenger_count  \\\n",
       "0         2  2023-01-01 00:32:10   2023-01-01 00:40:36              1.0   \n",
       "1         2  2023-01-01 00:55:08   2023-01-01 01:01:27              1.0   \n",
       "2         2  2023-01-01 00:25:04   2023-01-01 00:37:49              1.0   \n",
       "3         1  2023-01-01 00:03:48   2023-01-01 00:13:25              0.0   \n",
       "4         2  2023-01-01 00:10:29   2023-01-01 00:21:19              1.0   \n",
       "\n",
       "   trip_distance  RatecodeID store_and_fwd_flag  PULocationID  DOLocationID  \\\n",
       "0           0.97         1.0                  N           161           141   \n",
       "1           1.10         1.0                  N            43           237   \n",
       "2           2.51         1.0                  N            48           238   \n",
       "3           1.90         1.0                  N           138             7   \n",
       "4           1.43         1.0                  N           107            79   \n",
       "\n",
       "   payment_type  fare_amount  extra  mta_tax  tip_amount  tolls_amount  \\\n",
       "0             2          9.3   1.00      0.5        0.00           0.0   \n",
       "1             1          7.9   1.00      0.5        4.00           0.0   \n",
       "2             1         14.9   1.00      0.5       15.00           0.0   \n",
       "3             1         12.1   7.25      0.5        0.00           0.0   \n",
       "4             1         11.4   1.00      0.5        3.28           0.0   \n",
       "\n",
       "   improvement_surcharge  total_amount  congestion_surcharge  airport_fee  \n",
       "0                    1.0         14.30                   2.5         0.00  \n",
       "1                    1.0         16.90                   2.5         0.00  \n",
       "2                    1.0         34.90                   2.5         0.00  \n",
       "3                    1.0         20.85                   0.0         1.25  \n",
       "4                    1.0         19.68                   2.5         0.00  "
      ]
     },
     "execution_count": 10,
     "metadata": {},
     "output_type": "execute_result"
    }
   ],
   "source": [
    "# print(f\"Size of January DataFrame: {df_jan.shape}\")\n",
    "print(f\"> There are {df_jan.shape[1]} columns in January DataFrame\")\n",
    "df_jan.head(5)"
   ]
  },
  {
   "cell_type": "markdown",
   "id": "13bc1d22",
   "metadata": {},
   "source": [
    "### 2. What's the standard deviation of the trips duration in January?"
   ]
  },
  {
   "cell_type": "code",
   "execution_count": null,
   "id": "1317e8a9",
   "metadata": {},
   "outputs": [
    {
     "name": "stdout",
     "output_type": "stream",
     "text": [
      "<class 'pandas.core.frame.DataFrame'>\n",
      "RangeIndex: 3066766 entries, 0 to 3066765\n",
      "Data columns (total 19 columns):\n",
      " #   Column                 Dtype         \n",
      "---  ------                 -----         \n",
      " 0   VendorID               int64         \n",
      " 1   tpep_pickup_datetime   datetime64[ns]\n",
      " 2   tpep_dropoff_datetime  datetime64[ns]\n",
      " 3   passenger_count        float64       \n",
      " 4   trip_distance          float64       \n",
      " 5   RatecodeID             float64       \n",
      " 6   store_and_fwd_flag     object        \n",
      " 7   PULocationID           int64         \n",
      " 8   DOLocationID           int64         \n",
      " 9   payment_type           int64         \n",
      " 10  fare_amount            float64       \n",
      " 11  extra                  float64       \n",
      " 12  mta_tax                float64       \n",
      " 13  tip_amount             float64       \n",
      " 14  tolls_amount           float64       \n",
      " 15  improvement_surcharge  float64       \n",
      " 16  total_amount           float64       \n",
      " 17  congestion_surcharge   float64       \n",
      " 18  airport_fee            float64       \n",
      "dtypes: datetime64[ns](2), float64(12), int64(4), object(1)\n",
      "memory usage: 444.6+ MB\n",
      "> Standard deviation of duration in January: 42.59 minutes\n"
     ]
    }
   ],
   "source": [
    "df_jan.info()\n",
    "def calculate_duration(df):\n",
    "    \"\"\"\n",
    "    Adds a 'duration' column to the DataFrame, calculated as the difference between\n",
    "    'tpep_dropoff_datetime' and 'tpep_pickup_datetime', converted to minutes.\n",
    "\n",
    "    Args:\n",
    "        df (pd.DataFrame): Input DataFrame with 'tpep_pickup_datetime' and 'tpep_dropoff_datetime' columns.\n",
    "\n",
    "    Returns:\n",
    "        pd.DataFrame: DataFrame with an additional 'duration' column.\n",
    "    \"\"\"\n",
    "    df['duration'] = df.tpep_dropoff_datetime - df.tpep_pickup_datetime\n",
    "    df['duration'] = df['duration'].apply(lambda td: td.total_seconds() / 60)\n",
    "    return df\n",
    "# Add a new column 'duration' to DataFrames\n",
    "df_jan = calculate_duration(df_jan)\n",
    "df_feb = calculate_duration(df_feb)\n",
    "# Calculate std of duration column\n",
    "print(f\"> Standard deviation of duration in January: {df_jan.duration.std() :.2f} minutes\")"
   ]
  },
  {
   "cell_type": "code",
   "execution_count": null,
   "id": "a4ad24cc",
   "metadata": {},
   "outputs": [],
   "source": [
    "### 3. What fraction of the records left after you dropped the outliers?"
   ]
  },
  {
   "cell_type": "code",
   "execution_count": null,
   "id": "993d40be",
   "metadata": {},
   "outputs": [
    {
     "name": "stdout",
     "output_type": "stream",
     "text": [
      "> Fraction of records after dropping outliers: 98.12%\n"
     ]
    }
   ],
   "source": [
    "# We need to check the distribution of the duration variable. There are some outliers. \n",
    "def filter_duration(df):\n",
    "    \"\"\"\n",
    "    Filters the DataFrame to keep only records with a duration between 1 and 60 minutes.\n",
    "    Args:\n",
    "        df (pd.DataFrame): Input DataFrame with a 'duration' column.\n",
    "    Returns:\n",
    "        pd.DataFrame: Filtered DataFrame with records having duration between 1 and 60 minutes.\n",
    "    \"\"\"\n",
    "    return df[(df.duration >= 1) & (df.duration <= 60)]\n",
    "\n",
    "df_jan_filtered = filter_duration(df_jan)\n",
    "df_feb_filtered = filter_duration(df_feb)\n",
    "\n",
    "# Fraction of records after dropping outliers\n",
    "print(f\"> Fraction of records after dropping outliers: {(df_jan_filtered.shape[0] / df_jan.shape[0]) * 100:.2f}%\")\n"
   ]
  },
  {
   "cell_type": "markdown",
   "id": "6acd93c3",
   "metadata": {},
   "source": [
    "### 4. What's the dimensionality of this matrix (number of columns)?"
   ]
  },
  {
   "cell_type": "code",
   "execution_count": 13,
   "id": "40c5da0a",
   "metadata": {},
   "outputs": [
    {
     "name": "stderr",
     "output_type": "stream",
     "text": [
      "/tmp/ipykernel_18754/2320927833.py:6: SettingWithCopyWarning: \n",
      "A value is trying to be set on a copy of a slice from a DataFrame.\n",
      "Try using .loc[row_indexer,col_indexer] = value instead\n",
      "\n",
      "See the caveats in the documentation: https://pandas.pydata.org/pandas-docs/stable/user_guide/indexing.html#returning-a-view-versus-a-copy\n",
      "  df_jan_filtered[categorical_features] = df_jan_filtered[categorical_features].astype(str)\n",
      "/tmp/ipykernel_18754/2320927833.py:7: SettingWithCopyWarning: \n",
      "A value is trying to be set on a copy of a slice from a DataFrame.\n",
      "Try using .loc[row_indexer,col_indexer] = value instead\n",
      "\n",
      "See the caveats in the documentation: https://pandas.pydata.org/pandas-docs/stable/user_guide/indexing.html#returning-a-view-versus-a-copy\n",
      "  df_feb_filtered[categorical_features] = df_feb_filtered[categorical_features].astype(str)\n"
     ]
    },
    {
     "name": "stdout",
     "output_type": "stream",
     "text": [
      "> Dimentionality of transformed features: 515\n"
     ]
    }
   ],
   "source": [
    "# Let's apply one-hot encoding to the pickup and dropoff location IDs.\n",
    "categorical_features = ['PULocationID', 'DOLocationID']\n",
    "numerical_feature = ['trip_distance']\n",
    "\n",
    "# Convert int64 to str so that one-hot encoding works - since OHE takes everything as categorical which is not int64\n",
    "df_jan_filtered[categorical_features] = df_jan_filtered[categorical_features].astype(str)\n",
    "df_feb_filtered[categorical_features] = df_feb_filtered[categorical_features].astype(str)\n",
    "\n",
    "# Apply one-hot encoding:\n",
    "# We can use DictVectorizer or OneHotEncoder. Here we will use OneHotEncoder\n",
    "# OneHotEncoder is more efficient for large datasets\n",
    "# and it can handle unknown categories in the test set\n",
    "one_hot_encoder = OneHotEncoder(handle_unknown='ignore')\n",
    "transformed_features = one_hot_encoder.fit_transform(df_jan_filtered[categorical_features])\n",
    "\n",
    "print(f\"> Dimentionality of transformed features: {transformed_features.shape[1]}\")"
   ]
  },
  {
   "cell_type": "markdown",
   "id": "4dd62aef",
   "metadata": {},
   "source": [
    "### 5. What's the RMSE on train?\n"
   ]
  },
  {
   "cell_type": "code",
   "execution_count": null,
   "id": "7b8b8e64",
   "metadata": {},
   "outputs": [],
   "source": [
    "# Train a plain linear regression model with default parameters, where duration is the response variable\n",
    "training_targets = df_jan_filtered['duration']\n",
    "lr = LinearRegression()\n",
    "lr.fit(transformed_features, training_targets)\n",
    "# Calculate the RMSE of the model on the training data\n",
    "training_predictions = lr.predict(transformed_features)\n",
    "rmse = mean_squared_error(training_targets, training_predictions, squared=False)\n",
    "print(f\"> RMSE of the model on the training data: {rmse:.2f} minutes\")"
   ]
  },
  {
   "cell_type": "markdown",
   "id": "67230d84",
   "metadata": {},
   "source": [
    "### 6. What's the RMSE on validation?\n"
   ]
  },
  {
   "cell_type": "code",
   "execution_count": null,
   "id": "6a52f254",
   "metadata": {},
   "outputs": [],
   "source": [
    "# Apply this model to the validation dataset (February 2023).\n",
    "test_targets = df_feb_filtered['duration']\n",
    "\n",
    "# Transform the test set using the same one-hot encoder\n",
    "transformed_test_features = one_hot_encoder.transform(df_feb_filtered[categorical_features])\n",
    "\n",
    "# Predict the duration using the model\n",
    "test_predictions = lr.predict(transformed_test_features)\n",
    "\n",
    "# Calculate the RMSE of the model on the test data\n",
    "rmse_test = mean_squared_error(test_targets, test_predictions, squared=False)\n",
    "\n",
    "# Print the RMSE of the model on the test data\n",
    "print(f\"> RMSE of the model on the test data: {rmse_test:.2f} minutes\")"
   ]
  },
  {
   "cell_type": "code",
   "execution_count": null,
   "id": "76a65be5",
   "metadata": {},
   "outputs": [],
   "source": []
  }
 ],
 "metadata": {
  "kernelspec": {
   "display_name": "base",
   "language": "python",
   "name": "python3"
  },
  "language_info": {
   "codemirror_mode": {
    "name": "ipython",
    "version": 3
   },
   "file_extension": ".py",
   "mimetype": "text/x-python",
   "name": "python",
   "nbconvert_exporter": "python",
   "pygments_lexer": "ipython3",
   "version": "3.9.12"
  }
 },
 "nbformat": 4,
 "nbformat_minor": 5
}
